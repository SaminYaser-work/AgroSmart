{
 "cells": [
  {
   "cell_type": "code",
   "execution_count": 2,
   "id": "initial_id",
   "metadata": {
    "collapsed": true,
    "ExecuteTime": {
     "end_time": "2023-08-25T08:46:27.398751868Z",
     "start_time": "2023-08-25T08:46:27.164731748Z"
    }
   },
   "outputs": [],
   "source": [
    "import numpy as np\n",
    "import pandas as pd"
   ]
  },
  {
   "cell_type": "code",
   "execution_count": 3,
   "outputs": [
    {
     "data": {
      "text/plain": "       ph  temperature  turbidity   fish\n0    6.00        27.00       4.00  katla\n1    7.60        28.00       5.90   sing\n2    7.80        27.00       5.50   sing\n3    6.50        31.00       5.50  katla\n4    8.20        27.00       8.50  prawn\n..    ...          ...        ...    ...\n586  7.07        21.12       3.57   sing\n587  6.99        21.19       3.56   sing\n588  6.87        21.00       3.56   sing\n589  6.68        21.19       3.58   sing\n590  6.95        21.12       3.58   sing\n\n[591 rows x 4 columns]",
      "text/html": "<div>\n<style scoped>\n    .dataframe tbody tr th:only-of-type {\n        vertical-align: middle;\n    }\n\n    .dataframe tbody tr th {\n        vertical-align: top;\n    }\n\n    .dataframe thead th {\n        text-align: right;\n    }\n</style>\n<table border=\"1\" class=\"dataframe\">\n  <thead>\n    <tr style=\"text-align: right;\">\n      <th></th>\n      <th>ph</th>\n      <th>temperature</th>\n      <th>turbidity</th>\n      <th>fish</th>\n    </tr>\n  </thead>\n  <tbody>\n    <tr>\n      <th>0</th>\n      <td>6.00</td>\n      <td>27.00</td>\n      <td>4.00</td>\n      <td>katla</td>\n    </tr>\n    <tr>\n      <th>1</th>\n      <td>7.60</td>\n      <td>28.00</td>\n      <td>5.90</td>\n      <td>sing</td>\n    </tr>\n    <tr>\n      <th>2</th>\n      <td>7.80</td>\n      <td>27.00</td>\n      <td>5.50</td>\n      <td>sing</td>\n    </tr>\n    <tr>\n      <th>3</th>\n      <td>6.50</td>\n      <td>31.00</td>\n      <td>5.50</td>\n      <td>katla</td>\n    </tr>\n    <tr>\n      <th>4</th>\n      <td>8.20</td>\n      <td>27.00</td>\n      <td>8.50</td>\n      <td>prawn</td>\n    </tr>\n    <tr>\n      <th>...</th>\n      <td>...</td>\n      <td>...</td>\n      <td>...</td>\n      <td>...</td>\n    </tr>\n    <tr>\n      <th>586</th>\n      <td>7.07</td>\n      <td>21.12</td>\n      <td>3.57</td>\n      <td>sing</td>\n    </tr>\n    <tr>\n      <th>587</th>\n      <td>6.99</td>\n      <td>21.19</td>\n      <td>3.56</td>\n      <td>sing</td>\n    </tr>\n    <tr>\n      <th>588</th>\n      <td>6.87</td>\n      <td>21.00</td>\n      <td>3.56</td>\n      <td>sing</td>\n    </tr>\n    <tr>\n      <th>589</th>\n      <td>6.68</td>\n      <td>21.19</td>\n      <td>3.58</td>\n      <td>sing</td>\n    </tr>\n    <tr>\n      <th>590</th>\n      <td>6.95</td>\n      <td>21.12</td>\n      <td>3.58</td>\n      <td>sing</td>\n    </tr>\n  </tbody>\n</table>\n<p>591 rows × 4 columns</p>\n</div>"
     },
     "execution_count": 3,
     "metadata": {},
     "output_type": "execute_result"
    }
   ],
   "source": [
    "df = pd.read_csv('./ds/realfishdataset.csv')\n",
    "df"
   ],
   "metadata": {
    "collapsed": false,
    "ExecuteTime": {
     "end_time": "2023-08-25T08:46:28.904439809Z",
     "start_time": "2023-08-25T08:46:28.687895587Z"
    }
   },
   "id": "2bded16c7ac7ffa5"
  },
  {
   "cell_type": "code",
   "execution_count": 6,
   "outputs": [],
   "source": [
    "df2 = df[ (df['fish'] == 'katla') | (df['fish'] == 'rui') | (df['fish'] == 'silverCarp')]"
   ],
   "metadata": {
    "collapsed": false,
    "ExecuteTime": {
     "end_time": "2023-08-25T08:49:09.056540124Z",
     "start_time": "2023-08-25T08:49:08.553131240Z"
    }
   },
   "id": "3da3476d6b87f1fb"
  },
  {
   "cell_type": "code",
   "execution_count": 9,
   "outputs": [
    {
     "data": {
      "text/plain": "(157, 4)"
     },
     "execution_count": 9,
     "metadata": {},
     "output_type": "execute_result"
    }
   ],
   "source": [
    "df2.shape"
   ],
   "metadata": {
    "collapsed": false,
    "ExecuteTime": {
     "end_time": "2023-08-25T08:49:28.055085424Z",
     "start_time": "2023-08-25T08:49:27.944040033Z"
    }
   },
   "id": "82f8c8fb961c80ca"
  },
  {
   "cell_type": "code",
   "execution_count": 12,
   "outputs": [],
   "source": [
    "clean_df = df.drop(columns=['fish'])"
   ],
   "metadata": {
    "collapsed": false,
    "ExecuteTime": {
     "end_time": "2023-08-25T08:50:48.052395300Z",
     "start_time": "2023-08-25T08:50:48.013754175Z"
    }
   },
   "id": "c8767b10c9326bd0"
  },
  {
   "cell_type": "code",
   "execution_count": 13,
   "outputs": [
    {
     "data": {
      "text/plain": "       ph  temperature  turbidity\n0    6.00        27.00       4.00\n1    7.60        28.00       5.90\n2    7.80        27.00       5.50\n3    6.50        31.00       5.50\n4    8.20        27.00       8.50\n..    ...          ...        ...\n586  7.07        21.12       3.57\n587  6.99        21.19       3.56\n588  6.87        21.00       3.56\n589  6.68        21.19       3.58\n590  6.95        21.12       3.58\n\n[591 rows x 3 columns]",
      "text/html": "<div>\n<style scoped>\n    .dataframe tbody tr th:only-of-type {\n        vertical-align: middle;\n    }\n\n    .dataframe tbody tr th {\n        vertical-align: top;\n    }\n\n    .dataframe thead th {\n        text-align: right;\n    }\n</style>\n<table border=\"1\" class=\"dataframe\">\n  <thead>\n    <tr style=\"text-align: right;\">\n      <th></th>\n      <th>ph</th>\n      <th>temperature</th>\n      <th>turbidity</th>\n    </tr>\n  </thead>\n  <tbody>\n    <tr>\n      <th>0</th>\n      <td>6.00</td>\n      <td>27.00</td>\n      <td>4.00</td>\n    </tr>\n    <tr>\n      <th>1</th>\n      <td>7.60</td>\n      <td>28.00</td>\n      <td>5.90</td>\n    </tr>\n    <tr>\n      <th>2</th>\n      <td>7.80</td>\n      <td>27.00</td>\n      <td>5.50</td>\n    </tr>\n    <tr>\n      <th>3</th>\n      <td>6.50</td>\n      <td>31.00</td>\n      <td>5.50</td>\n    </tr>\n    <tr>\n      <th>4</th>\n      <td>8.20</td>\n      <td>27.00</td>\n      <td>8.50</td>\n    </tr>\n    <tr>\n      <th>...</th>\n      <td>...</td>\n      <td>...</td>\n      <td>...</td>\n    </tr>\n    <tr>\n      <th>586</th>\n      <td>7.07</td>\n      <td>21.12</td>\n      <td>3.57</td>\n    </tr>\n    <tr>\n      <th>587</th>\n      <td>6.99</td>\n      <td>21.19</td>\n      <td>3.56</td>\n    </tr>\n    <tr>\n      <th>588</th>\n      <td>6.87</td>\n      <td>21.00</td>\n      <td>3.56</td>\n    </tr>\n    <tr>\n      <th>589</th>\n      <td>6.68</td>\n      <td>21.19</td>\n      <td>3.58</td>\n    </tr>\n    <tr>\n      <th>590</th>\n      <td>6.95</td>\n      <td>21.12</td>\n      <td>3.58</td>\n    </tr>\n  </tbody>\n</table>\n<p>591 rows × 3 columns</p>\n</div>"
     },
     "execution_count": 13,
     "metadata": {},
     "output_type": "execute_result"
    }
   ],
   "source": [
    "clean_df"
   ],
   "metadata": {
    "collapsed": false,
    "ExecuteTime": {
     "end_time": "2023-08-25T08:50:52.420379239Z",
     "start_time": "2023-08-25T08:50:52.360684126Z"
    }
   },
   "id": "2a010602712e38ce"
  },
  {
   "cell_type": "code",
   "execution_count": 14,
   "outputs": [],
   "source": [
    "clean_df.to_json('./ds/pond.json')"
   ],
   "metadata": {
    "collapsed": false,
    "ExecuteTime": {
     "end_time": "2023-08-25T08:51:58.000114831Z",
     "start_time": "2023-08-25T08:51:57.951998395Z"
    }
   },
   "id": "bf456c3ef9579d"
  },
  {
   "cell_type": "code",
   "execution_count": null,
   "outputs": [],
   "source": [],
   "metadata": {
    "collapsed": false
   },
   "id": "1bd6aaa3a8f7a1ac"
  }
 ],
 "metadata": {
  "kernelspec": {
   "display_name": "Python 3",
   "language": "python",
   "name": "python3"
  },
  "language_info": {
   "codemirror_mode": {
    "name": "ipython",
    "version": 2
   },
   "file_extension": ".py",
   "mimetype": "text/x-python",
   "name": "python",
   "nbconvert_exporter": "python",
   "pygments_lexer": "ipython2",
   "version": "2.7.6"
  }
 },
 "nbformat": 4,
 "nbformat_minor": 5
}
